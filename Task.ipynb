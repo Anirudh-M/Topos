{
 "cells": [
  {
   "cell_type": "code",
   "execution_count": 39,
   "metadata": {},
   "outputs": [],
   "source": [
    "import pandas as pd\n",
    "import requests\n",
    "import re\n",
    "from bs4 import BeautifulSoup"
   ]
  },
  {
   "cell_type": "markdown",
   "metadata": {},
   "source": [
    "### Extracting tables from the Wikipedia page"
   ]
  },
  {
   "cell_type": "code",
   "execution_count": 40,
   "metadata": {},
   "outputs": [],
   "source": [
    "website_url = requests.get('https://en.wikipedia.org/wiki/List_of_United_States_cities_by_population').text\n",
    "soup = BeautifulSoup(website_url,'lxml')\n",
    "My_table = soup.find('table',{'class':'wikitable sortable'})"
   ]
  },
  {
   "cell_type": "code",
   "execution_count": 41,
   "metadata": {},
   "outputs": [],
   "source": [
    "# This string is used to add wikipedia.org to all the Wikipedia paes of the cities obtained from the table\n",
    "\n",
    "wiki = 'https://en.wikipedia.org'"
   ]
  },
  {
   "cell_type": "code",
   "execution_count": 42,
   "metadata": {},
   "outputs": [],
   "source": [
    "# Storing links of Wikipedia pages from the table in a list\n",
    "\n",
    "link_list = []\n",
    "for row in My_table.tbody.findAll('tr'):\n",
    "    links = row.find_all('a')[0]\n",
    "    #print(links['href'])\n",
    "    link = wiki+links['href']\n",
    "    link_list.append(link)\n",
    "    #print(link)"
   ]
  },
  {
   "cell_type": "code",
   "execution_count": 43,
   "metadata": {},
   "outputs": [],
   "source": [
    "# Obtains each row of tthe table\n",
    "\n",
    "table_rows = My_table.find_all('tr')\n",
    "res = []\n",
    "for tr in table_rows:\n",
    "    td = tr.find_all('td')\n",
    "    row = [tr.text.strip() for tr in td if tr.text.strip()]\n",
    "    if row:\n",
    "        res.append(row)\n"
   ]
  },
  {
   "cell_type": "code",
   "execution_count": 44,
   "metadata": {},
   "outputs": [],
   "source": [
    "data = pd.DataFrame(res)\n",
    "data.columns = ['2017 rank', 'City', 'State', '2017 estimate', '2010 Census',\n",
    "                                                         'Change', '2016 land area Sq Mi','2016 land area Sq Km',\n",
    "                 '2016 population density/sq Mi', '2016 population/sq Km', 'Location']"
   ]
  },
  {
   "cell_type": "code",
   "execution_count": 45,
   "metadata": {},
   "outputs": [],
   "source": [
    "# Removing the citations (Marked  with []) next to names of cities in the table\n",
    "\n",
    "for i, row in data.iterrows():\n",
    "    row['City'] = re.sub(r'\\[.*?\\]', '', row['City'])\n",
    "    row['2016 land area Sq Mi'] = re.sub(\"\\D\", \"\", row['2016 land area Sq Mi'])\n",
    "    row['2016 land area Sq Km'] = re.sub(\"\\D\", \"\", row['2016 land area Sq Km'])\n",
    "    row['2016 population density/sq Mi'] = re.sub(\"\\D\", \"\", row['2016 population density/sq Mi'])\n",
    "    row['2016 population/sq Km'] = re.sub(\"\\D\", \"\", row['2016 population/sq Km'])"
   ]
  },
  {
   "cell_type": "code",
   "execution_count": 46,
   "metadata": {},
   "outputs": [],
   "source": [
    "data['Wikipedia Link'] = link_list[1:]"
   ]
  },
  {
   "cell_type": "code",
   "execution_count": null,
   "metadata": {},
   "outputs": [],
   "source": []
  },
  {
   "cell_type": "markdown",
   "metadata": {},
   "source": [
    "## This segment finds the links of city municipal websites given in the Wikipedia pages of respective cities"
   ]
  },
  {
   "cell_type": "markdown",
   "metadata": {},
   "source": [
    "### We visit the Wikipedia page of each city, find the table in which the website is given and store it"
   ]
  },
  {
   "cell_type": "code",
   "execution_count": 47,
   "metadata": {},
   "outputs": [],
   "source": [
    "web = []\n",
    "for l in link_list[1:]:\n",
    "    website_url = requests.get(l).text\n",
    "    soup = BeautifulSoup(website_url,'lxml')\n",
    "    tables = soup.find_all('table')\n",
    "    k = tables[0].findAll('a')\n",
    "    j = 0\n",
    "    while(len(k) < 15):\n",
    "        k = tables[j].findAll('a')\n",
    "        j+=1\n",
    "    w = k[len(k) - 1]['href']\n",
    "    if \"wikidata\" in w:\n",
    "        w = k[len(k) - 2]['href']\n",
    "    \n",
    "    ### When we obtain a website, we have to make sure that it is the official page\n",
    "    ### Hence, we use these stop-words which are commonly used in wikipedia pages to filter them out\n",
    "    \n",
    "    stop = [\"city-data\",\"pdf\", \"lion1906\", \"geonames\"]\n",
    "    \n",
    "    \n",
    "    i = 1\n",
    "    while \"http\" not in w:\n",
    "        i+=1\n",
    "        w = k[len(k) - i]['href']\n",
    "        #print(w)\n",
    "        \n",
    "\n",
    "    for word in stop:\n",
    "        if word in w:\n",
    "            i+= 1\n",
    "            w = k[len(k) - i]['href']\n",
    "\n",
    "            \n",
    "## Renton, Washington is the only page that has a  link in a different table\n",
    "    \n",
    "    \n",
    "    if 'Renton,_Washington' in l:\n",
    "        k = tables[4].findAll('a')\n",
    "        w = k[len(k) - 1]['href']\n",
    "        \n",
    "    web.append(w)"
   ]
  },
  {
   "cell_type": "code",
   "execution_count": null,
   "metadata": {},
   "outputs": [],
   "source": []
  },
  {
   "cell_type": "code",
   "execution_count": 48,
   "metadata": {},
   "outputs": [
    {
     "data": {
      "text/plain": [
       "314"
      ]
     },
     "execution_count": 48,
     "metadata": {},
     "output_type": "execute_result"
    }
   ],
   "source": [
    "len(web)"
   ]
  },
  {
   "cell_type": "code",
   "execution_count": 49,
   "metadata": {},
   "outputs": [],
   "source": [
    "data['City Website'] = web"
   ]
  },
  {
   "cell_type": "code",
   "execution_count": 50,
   "metadata": {},
   "outputs": [
    {
     "data": {
      "text/html": [
       "<div>\n",
       "<style scoped>\n",
       "    .dataframe tbody tr th:only-of-type {\n",
       "        vertical-align: middle;\n",
       "    }\n",
       "\n",
       "    .dataframe tbody tr th {\n",
       "        vertical-align: top;\n",
       "    }\n",
       "\n",
       "    .dataframe thead th {\n",
       "        text-align: right;\n",
       "    }\n",
       "</style>\n",
       "<table border=\"1\" class=\"dataframe\">\n",
       "  <thead>\n",
       "    <tr style=\"text-align: right;\">\n",
       "      <th></th>\n",
       "      <th>2017 rank</th>\n",
       "      <th>City</th>\n",
       "      <th>State</th>\n",
       "      <th>2017 estimate</th>\n",
       "      <th>2010 Census</th>\n",
       "      <th>Change</th>\n",
       "      <th>2016 land area Sq Mi</th>\n",
       "      <th>2016 land area Sq Km</th>\n",
       "      <th>2016 population density/sq Mi</th>\n",
       "      <th>2016 population/sq Km</th>\n",
       "      <th>Location</th>\n",
       "      <th>Wikipedia Link</th>\n",
       "      <th>City Website</th>\n",
       "    </tr>\n",
       "  </thead>\n",
       "  <tbody>\n",
       "    <tr>\n",
       "      <th>0</th>\n",
       "      <td>1</td>\n",
       "      <td>New York City</td>\n",
       "      <td>New York</td>\n",
       "      <td>8,398,748</td>\n",
       "      <td>8,175,133</td>\n",
       "      <td>+2.74%</td>\n",
       "      <td>3015</td>\n",
       "      <td>78092</td>\n",
       "      <td>28317</td>\n",
       "      <td>109332</td>\n",
       "      <td>40°39′49″N 73°56′19″W﻿ / ﻿40.6635°N 73.9387°W﻿...</td>\n",
       "      <td>https://en.wikipedia.org/wiki/New_York_City</td>\n",
       "      <td>https://www.nyc.gov/</td>\n",
       "    </tr>\n",
       "    <tr>\n",
       "      <th>1</th>\n",
       "      <td>2</td>\n",
       "      <td>Los Angeles</td>\n",
       "      <td>California</td>\n",
       "      <td>3,990,456</td>\n",
       "      <td>3,792,621</td>\n",
       "      <td>+5.22%</td>\n",
       "      <td>4687</td>\n",
       "      <td>121392</td>\n",
       "      <td>8484</td>\n",
       "      <td>32762</td>\n",
       "      <td>34°01′10″N 118°24′39″W﻿ / ﻿34.0194°N 118.4108°...</td>\n",
       "      <td>https://en.wikipedia.org/wiki/Los_Angeles</td>\n",
       "      <td>https://www.lacity.org/</td>\n",
       "    </tr>\n",
       "    <tr>\n",
       "      <th>2</th>\n",
       "      <td>3</td>\n",
       "      <td>Chicago</td>\n",
       "      <td>Illinois</td>\n",
       "      <td>2,705,994</td>\n",
       "      <td>2,695,598</td>\n",
       "      <td>+0.39%</td>\n",
       "      <td>2273</td>\n",
       "      <td>58872</td>\n",
       "      <td>11900</td>\n",
       "      <td>46002</td>\n",
       "      <td>41°50′15″N 87°40′54″W﻿ / ﻿41.8376°N 87.6818°W﻿...</td>\n",
       "      <td>https://en.wikipedia.org/wiki/Chicago</td>\n",
       "      <td>http://www.cityofchicago.org</td>\n",
       "    </tr>\n",
       "    <tr>\n",
       "      <th>3</th>\n",
       "      <td>4</td>\n",
       "      <td>Houston</td>\n",
       "      <td>Texas</td>\n",
       "      <td>2,325,502</td>\n",
       "      <td>2,100,263</td>\n",
       "      <td>+10.72%</td>\n",
       "      <td>6375</td>\n",
       "      <td>165112</td>\n",
       "      <td>3613</td>\n",
       "      <td>13952</td>\n",
       "      <td>29°47′12″N 95°23′27″W﻿ / ﻿29.7866°N 95.3909°W﻿...</td>\n",
       "      <td>https://en.wikipedia.org/wiki/Houston</td>\n",
       "      <td>http://www.houstontx.gov/</td>\n",
       "    </tr>\n",
       "    <tr>\n",
       "      <th>4</th>\n",
       "      <td>5</td>\n",
       "      <td>Phoenix</td>\n",
       "      <td>Arizona</td>\n",
       "      <td>1,660,272</td>\n",
       "      <td>1,445,632</td>\n",
       "      <td>+14.85%</td>\n",
       "      <td>5176</td>\n",
       "      <td>134062</td>\n",
       "      <td>3120</td>\n",
       "      <td>12002</td>\n",
       "      <td>33°34′20″N 112°05′24″W﻿ / ﻿33.5722°N 112.0901°...</td>\n",
       "      <td>https://en.wikipedia.org/wiki/Phoenix,_Arizona</td>\n",
       "      <td>http://www.phoenix.gov</td>\n",
       "    </tr>\n",
       "  </tbody>\n",
       "</table>\n",
       "</div>"
      ],
      "text/plain": [
       "  2017 rank           City       State 2017 estimate 2010 Census   Change  \\\n",
       "0         1  New York City    New York     8,398,748   8,175,133   +2.74%   \n",
       "1         2    Los Angeles  California     3,990,456   3,792,621   +5.22%   \n",
       "2         3        Chicago    Illinois     2,705,994   2,695,598   +0.39%   \n",
       "3         4        Houston       Texas     2,325,502   2,100,263  +10.72%   \n",
       "4         5        Phoenix     Arizona     1,660,272   1,445,632  +14.85%   \n",
       "\n",
       "  2016 land area Sq Mi 2016 land area Sq Km 2016 population density/sq Mi  \\\n",
       "0                 3015                78092                         28317   \n",
       "1                 4687               121392                          8484   \n",
       "2                 2273                58872                         11900   \n",
       "3                 6375               165112                          3613   \n",
       "4                 5176               134062                          3120   \n",
       "\n",
       "  2016 population/sq Km                                           Location  \\\n",
       "0                109332  40°39′49″N 73°56′19″W﻿ / ﻿40.6635°N 73.9387°W﻿...   \n",
       "1                 32762  34°01′10″N 118°24′39″W﻿ / ﻿34.0194°N 118.4108°...   \n",
       "2                 46002  41°50′15″N 87°40′54″W﻿ / ﻿41.8376°N 87.6818°W﻿...   \n",
       "3                 13952  29°47′12″N 95°23′27″W﻿ / ﻿29.7866°N 95.3909°W﻿...   \n",
       "4                 12002  33°34′20″N 112°05′24″W﻿ / ﻿33.5722°N 112.0901°...   \n",
       "\n",
       "                                   Wikipedia Link  \\\n",
       "0     https://en.wikipedia.org/wiki/New_York_City   \n",
       "1       https://en.wikipedia.org/wiki/Los_Angeles   \n",
       "2           https://en.wikipedia.org/wiki/Chicago   \n",
       "3           https://en.wikipedia.org/wiki/Houston   \n",
       "4  https://en.wikipedia.org/wiki/Phoenix,_Arizona   \n",
       "\n",
       "                   City Website  \n",
       "0          https://www.nyc.gov/  \n",
       "1       https://www.lacity.org/  \n",
       "2  http://www.cityofchicago.org  \n",
       "3     http://www.houstontx.gov/  \n",
       "4        http://www.phoenix.gov  "
      ]
     },
     "execution_count": 50,
     "metadata": {},
     "output_type": "execute_result"
    }
   ],
   "source": [
    "data.head(5)"
   ]
  },
  {
   "cell_type": "code",
   "execution_count": 51,
   "metadata": {},
   "outputs": [],
   "source": [
    "data.to_csv('my_data.csv', index = False)"
   ]
  },
  {
   "cell_type": "code",
   "execution_count": null,
   "metadata": {},
   "outputs": [],
   "source": []
  }
 ],
 "metadata": {
  "kernelspec": {
   "display_name": "Python 3",
   "language": "python",
   "name": "python3"
  },
  "language_info": {
   "codemirror_mode": {
    "name": "ipython",
    "version": 3
   },
   "file_extension": ".py",
   "mimetype": "text/x-python",
   "name": "python",
   "nbconvert_exporter": "python",
   "pygments_lexer": "ipython3",
   "version": "3.5.6"
  }
 },
 "nbformat": 4,
 "nbformat_minor": 2
}
